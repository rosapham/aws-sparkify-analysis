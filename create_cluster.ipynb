{
 "cells": [
  {
   "cell_type": "code",
   "execution_count": 8,
   "metadata": {},
   "outputs": [],
   "source": [
    "import json\n",
    "import boto3\n",
    "import configparser"
   ]
  },
  {
   "cell_type": "code",
   "execution_count": 9,
   "metadata": {},
   "outputs": [],
   "source": [
    "config = configparser.ConfigParser()\n",
    "config.read_file(open(\"dwh.cfg\"))\n",
    "\n",
    "KEY = config.get(\"AWS\", \"KEY\")\n",
    "SECRET = config.get(\"AWS\", \"SECRET\")\n",
    "DWH_CLUSTER_TYPE = config.get(\"DWH\", \"DWH_CLUSTER_TYPE\")\n",
    "DWH_NUM_NODES = config.get(\"DWH\", \"DWH_NUM_NODES\")\n",
    "DWH_NODE_TYPE = config.get(\"DWH\", \"DWH_NODE_TYPE\")\n",
    "DWH_CLUSTER_IDENTIFIER = config.get(\"DWH\", \"DWH_CLUSTER_IDENTIFIER\")\n",
    "DWH_DB = config.get(\"CLUSTER\", \"DB_NAME\")\n",
    "DWH_DB_USER = config.get(\"CLUSTER\", \"DB_USER\")\n",
    "DWH_DB_PASSWORD = config.get(\"CLUSTER\", \"DB_PASSWORD\")\n",
    "DWH_IAM_ROLE_NAME = config.get(\"DWH\", \"DWH_IAM_ROLE_NAME\")"
   ]
  },
  {
   "cell_type": "code",
   "execution_count": 10,
   "metadata": {},
   "outputs": [],
   "source": [
    "iam = boto3.client(\n",
    "        \"iam\", aws_access_key_id=KEY, aws_secret_access_key=SECRET, region_name=\"us-west-2\"\n",
    "    )\n",
    "redshift = boto3.client(\n",
    "        \"redshift\",\n",
    "        region_name=\"us-west-2\",\n",
    "        aws_access_key_id=KEY,\n",
    "        aws_secret_access_key=SECRET,\n",
    "    )"
   ]
  },
  {
   "cell_type": "code",
   "execution_count": 11,
   "metadata": {},
   "outputs": [
    {
     "name": "stdout",
     "output_type": "stream",
     "text": [
      "1.2 Attaching Policy\n",
      "1.3 Get the IAM role ARN\n"
     ]
    }
   ],
   "source": [
    "try:\n",
    "\n",
    "    iam.create_role(\n",
    "        Path=\"/\",\n",
    "        RoleName=DWH_IAM_ROLE_NAME,\n",
    "        Description=\"Allows Redshift clusters to call AWS services on your behalf.\",\n",
    "        AssumeRolePolicyDocument=json.dumps(\n",
    "            {\n",
    "                \"Statement\": [\n",
    "                    {\n",
    "                        \"Action\": \"sts:AssumeRole\",\n",
    "                        \"Effect\": \"Allow\",\n",
    "                        \"Principal\": {\"Service\": \"redshift.amazonaws.com\"},\n",
    "                    }\n",
    "                ],\n",
    "                \"Version\": \"2012-10-17\",\n",
    "            }\n",
    "        ),\n",
    "    )\n",
    "except Exception as e:\n",
    "    print(e)\n",
    "\n",
    "print(\"1.2 Attaching Policy\")\n",
    "iam.attach_role_policy(\n",
    "    RoleName=DWH_IAM_ROLE_NAME, PolicyArn=\"arn:aws:iam::aws:policy/AmazonS3ReadOnlyAccess\"\n",
    ")[\"ResponseMetadata\"][\"HTTPStatusCode\"]\n",
    "\n",
    "print(\"1.3 Get the IAM role ARN\")\n",
    "roleArn = iam.get_role(RoleName=DWH_IAM_ROLE_NAME)[\"Role\"][\"Arn\"]"
   ]
  },
  {
   "cell_type": "code",
   "execution_count": 12,
   "metadata": {},
   "outputs": [],
   "source": [
    "try:\n",
    "    redshift.create_cluster(\n",
    "        # HW\n",
    "        ClusterType=DWH_CLUSTER_TYPE,\n",
    "        NodeType=DWH_NODE_TYPE,\n",
    "        NumberOfNodes=int(DWH_NUM_NODES),\n",
    "        # Identifiers & Credentials\n",
    "        DBName=DWH_DB,\n",
    "        ClusterIdentifier=DWH_CLUSTER_IDENTIFIER,\n",
    "        MasterUsername=DWH_DB_USER,\n",
    "        MasterUserPassword=DWH_DB_PASSWORD,\n",
    "        # Roles (for s3 access)\n",
    "        IamRoles=[roleArn],\n",
    "    )\n",
    "except Exception as e:\n",
    "    print(e)"
   ]
  },
  {
   "cell_type": "code",
   "execution_count": null,
   "metadata": {},
   "outputs": [],
   "source": [
    "cluster_props = redshift.describe_clusters(ClusterIdentifier=DWH_CLUSTER_IDENTIFIER)[\"Clusters\"][0]\n",
    "DWH_ENDPOINT = cluster_props[\"Endpoint\"][\"Address\"]\n",
    "DWH_ROLE_ARN = cluster_props[\"IamRoles\"][0][\"IamRoleArn\"]\n",
    "print(\"DWH_ENDPOINT :: \", DWH_ENDPOINT)\n",
    "print(\"DWH_ROLE_ARN :: \", DWH_ROLE_ARN)"
   ]
  },
  {
   "cell_type": "code",
   "execution_count": null,
   "metadata": {},
   "outputs": [],
   "source": [
    "redshift.delete_cluster( ClusterIdentifier=DWH_CLUSTER_IDENTIFIER,  SkipFinalClusterSnapshot=True)"
   ]
  }
 ],
 "metadata": {
  "kernelspec": {
   "display_name": ".venv",
   "language": "python",
   "name": "python3"
  },
  "language_info": {
   "codemirror_mode": {
    "name": "ipython",
    "version": 3
   },
   "file_extension": ".py",
   "mimetype": "text/x-python",
   "name": "python",
   "nbconvert_exporter": "python",
   "pygments_lexer": "ipython3",
   "version": "3.11.9"
  }
 },
 "nbformat": 4,
 "nbformat_minor": 2
}
